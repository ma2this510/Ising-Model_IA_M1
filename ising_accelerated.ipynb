{
  "nbformat": 4,
  "nbformat_minor": 0,
  "metadata": {
    "colab": {
      "provenance": []
    },
    "kernelspec": {
      "name": "python3",
      "display_name": "Python 3"
    },
    "language_info": {
      "name": "python"
    }
  },
  "cells": [
    {
      "cell_type": "code",
      "execution_count": 20,
      "metadata": {
        "id": "e2inonUV6Lza"
      },
      "outputs": [],
      "source": [
        "import numpy as np\n",
        "import matplotlib.pyplot as plt\n",
        "from numba import njit\n",
        "\n",
        "\n",
        "\n",
        "@njit\n",
        "def generer_tableau(ratio,size):\n",
        "    nb = int(size*size*ratio)\n",
        "    a = np.zeros(size*size)\n",
        "    arr = np.arange(size*size)\n",
        "    np.random.shuffle(arr)\n",
        "    a[arr[:nb]]=1\n",
        "    return a.reshape((size, size))\n",
        "\n",
        "\n",
        "import numpy as np\n",
        "import matplotlib.pyplot as plt\n",
        "from numba import njit, prange\n",
        "\n",
        "@njit\n",
        "def generer_tableau(ratio, size):\n",
        "    nb = int(size * size * ratio)\n",
        "    a = np.zeros(size * size)\n",
        "    arr = np.arange(size * size)\n",
        "    np.random.shuffle(arr)\n",
        "    a[arr[:nb]] = 1\n",
        "    return a.reshape((size, size))\n",
        "\n",
        "\n",
        "@njit\n",
        "def calcul_DE(tableau, x, y, size):\n",
        "    if x == 0 or x == size - 1 or y == 0 or y == size - 1:\n",
        "        extended_tab = np.zeros((size + 2, size + 2))\n",
        "        extended_tab[1:size + 1, 1:size + 1] = tableau\n",
        "        extended_tab[0, 1:size + 1] = tableau[-1]\n",
        "        extended_tab[-1, 1:size + 1] = tableau[0]\n",
        "        extended_tab[1:size + 1, 0] = tableau[:, size - 1]\n",
        "        extended_tab[1:size + 1, size + 1] = tableau[:, 0]\n",
        "        table_locale = extended_tab[x:x + 3, y:y + 3]\n",
        "        o = table_locale[1, 1] * 2 - 1\n",
        "        a = table_locale[0, 1] * 2 - 1\n",
        "        b = table_locale[1, 0] * 2 - 1\n",
        "        c = table_locale[1, 2] * 2 - 1\n",
        "        d = table_locale[2, 1] * 2 - 1\n",
        "    else:\n",
        "        table_locale = tableau[x - 1:x + 2, y - 1:y + 2]\n",
        "        o = table_locale[1, 1] * 2 - 1\n",
        "        a = table_locale[0, 1] * 2 - 1\n",
        "        b = table_locale[1, 0] * 2 - 1\n",
        "        c = table_locale[1, 2] * 2 - 1\n",
        "        d = table_locale[2, 1] * 2 - 1\n",
        "    return 2 * o * (a + b + c + d)\n",
        "\n",
        "\n",
        "@njit\n",
        "def new_point_parallel(tableau, size, exp_values,nb_pas):\n",
        "    for _ in prange(size * size * nb_pas):\n",
        "        coordx = np.random.randint(size)\n",
        "        coordy = np.random.randint(size)\n",
        "        DE = calcul_DE(tableau, coordx, coordy, size)\n",
        "        if test_precomputed(DE, exp_values):\n",
        "            tableau[coordx, coordy] = not tableau[coordx, coordy]\n",
        "    return tableau\n",
        "\n",
        "\n",
        "@njit\n",
        "def precomputed_exp_values(T):\n",
        "    return np.array([np.exp(-4 / T), np.exp(-8 / T)])\n",
        "\n",
        "\n",
        "@njit\n",
        "def test_precomputed(DE, exp_values):\n",
        "    if DE == 0 or DE == -4 or DE == -8:\n",
        "        return True\n",
        "    if DE == 4 or DE == 8:\n",
        "        x = np.random.rand()\n",
        "        return x < exp_values[int(DE / 4 - 1)]\n",
        "    else:\n",
        "        print(\"erreur, DE = \", DE)\n",
        "        return False\n",
        "\n",
        "\n",
        "\n",
        "@njit\n",
        "def M(tableau, size):\n",
        "    totplus = np.sum(tableau)\n",
        "\n",
        "    return abs(-1 * (size * size - totplus) + totplus) / (size * size)\n"
      ]
    },
    {
      "cell_type": "code",
      "source": [
        "tab = generer_tableau(0.5, 40)\n",
        "ratio_cases = 0.25\n",
        "size = 40\n",
        "nb_pas = 300\n",
        "T_liste = np.linspace(0.25, 4, 16)\n",
        "Mliste=[]\n",
        "for T in T_liste:\n",
        "    print(T)\n",
        "    plt.imshow(tab)\n",
        "    plt.show()\n",
        "    exp_values = precomputed_exp_values(T)\n",
        "    for k in range(1000):\n",
        "        tab = generer_tableau(ratio_cases, size)\n",
        "        tab = new_point_parallel(tab, size, exp_values,nb_pas)\n",
        "        Mliste.append(np.sum(tab))\n",
        "\n",
        "\n",
        "Mliste = (np.abs(np.array(Mliste)-800)*2)/1600\n",
        "\n",
        "np.save('new_data_accelerated.npy',Mliste)\n",
        "plt.figure(figsize=[7.5,6])\n",
        "plt.scatter(np.arange(len(Mliste)),Mliste,s=0.2)\n",
        "plt.ylabel(r'$\\frac{|M|}{Mmax}$',size = 25)\n",
        "plt.grid()\n",
        "plt.title(\"Nouvelles données issus de la simulation accélérées par CPU\",size = 15)\n",
        "plt.savefig('new_data_accelerated.jpg',dpi =300)"
      ],
      "metadata": {
        "colab": {
          "base_uri": "https://localhost:8080/",
          "height": 849
        },
        "id": "P2EWc4jS8jIu",
        "outputId": "91cc4cf2-1ece-46c2-f724-c7b1e1fa0f25"
      },
      "execution_count": 21,
      "outputs": [
        {
          "output_type": "stream",
          "name": "stdout",
          "text": [
            "0.25\n"
          ]
        },
        {
          "output_type": "display_data",
          "data": {
            "text/plain": [
              "<Figure size 640x480 with 1 Axes>"
            ],
            "image/png": "[encoded data removed]"
          },
          "metadata": {}
        },
        {
          "output_type": "error",
          "ename": "SystemError",
          "evalue": "ignored",
          "traceback": [
            "\u001b[0;31m---------------------------------------------------------------------------\u001b[0m",
            "\u001b[0;31mKeyboardInterrupt\u001b[0m                         Traceback (most recent call last)",
            "\u001b[0;32m/usr/local/lib/python3.10/dist-packages/numba/core/serialize.py\u001b[0m in \u001b[0;36m_numba_unpickle\u001b[0;34m(address, bytedata, hashed)\u001b[0m\n\u001b[1;32m     29\u001b[0m \u001b[0;34m\u001b[0m\u001b[0m\n\u001b[0;32m---> 30\u001b[0;31m \u001b[0;32mdef\u001b[0m \u001b[0m_numba_unpickle\u001b[0m\u001b[0;34m(\u001b[0m\u001b[0maddress\u001b[0m\u001b[0;34m,\u001b[0m \u001b[0mbytedata\u001b[0m\u001b[0;34m,\u001b[0m \u001b[0mhashed\u001b[0m\u001b[0;34m)\u001b[0m\u001b[0;34m:\u001b[0m\u001b[0;34m\u001b[0m\u001b[0;34m\u001b[0m\u001b[0m\n\u001b[0m\u001b[1;32m     31\u001b[0m     \"\"\"Used by `numba_unpickle` from _helperlib.c\n",
            "\u001b[0;31mKeyboardInterrupt\u001b[0m: ",
            "\nThe above exception was the direct cause of the following exception:\n",
            "\u001b[0;31mSystemError\u001b[0m                               Traceback (most recent call last)",
            "\u001b[0;32m<ipython-input-21-606c97f75451>\u001b[0m in \u001b[0;36m<cell line: 7>\u001b[0;34m()\u001b[0m\n\u001b[1;32m     12\u001b[0m     \u001b[0;32mfor\u001b[0m \u001b[0mk\u001b[0m \u001b[0;32min\u001b[0m \u001b[0mrange\u001b[0m\u001b[0;34m(\u001b[0m\u001b[0;36m1000\u001b[0m\u001b[0;34m)\u001b[0m\u001b[0;34m:\u001b[0m\u001b[0;34m\u001b[0m\u001b[0;34m\u001b[0m\u001b[0m\n\u001b[1;32m     13\u001b[0m         \u001b[0mtab\u001b[0m \u001b[0;34m=\u001b[0m \u001b[0mgenerer_tableau\u001b[0m\u001b[0;34m(\u001b[0m\u001b[0mratio_cases\u001b[0m\u001b[0;34m,\u001b[0m \u001b[0msize\u001b[0m\u001b[0;34m)\u001b[0m\u001b[0;34m\u001b[0m\u001b[0;34m\u001b[0m\u001b[0m\n\u001b[0;32m---> 14\u001b[0;31m         \u001b[0mtab\u001b[0m \u001b[0;34m=\u001b[0m \u001b[0mnew_point_parallel\u001b[0m\u001b[0;34m(\u001b[0m\u001b[0mtab\u001b[0m\u001b[0;34m,\u001b[0m \u001b[0msize\u001b[0m\u001b[0;34m,\u001b[0m \u001b[0mexp_values\u001b[0m\u001b[0;34m,\u001b[0m\u001b[0mnb_pas\u001b[0m\u001b[0;34m)\u001b[0m\u001b[0;34m\u001b[0m\u001b[0;34m\u001b[0m\u001b[0m\n\u001b[0m\u001b[1;32m     15\u001b[0m         \u001b[0mMliste\u001b[0m\u001b[0;34m.\u001b[0m\u001b[0mappend\u001b[0m\u001b[0;34m(\u001b[0m\u001b[0mnp\u001b[0m\u001b[0;34m.\u001b[0m\u001b[0msum\u001b[0m\u001b[0;34m(\u001b[0m\u001b[0mtab\u001b[0m\u001b[0;34m)\u001b[0m\u001b[0;34m)\u001b[0m\u001b[0;34m\u001b[0m\u001b[0;34m\u001b[0m\u001b[0m\n\u001b[1;32m     16\u001b[0m \u001b[0;34m\u001b[0m\u001b[0m\n",
            "\u001b[0;31mSystemError\u001b[0m: CPUDispatcher(<function new_point_parallel at 0x7a6ee9f7f7f0>) returned a result with an exception set"
          ]
        }
      ]
    }
  ]
}